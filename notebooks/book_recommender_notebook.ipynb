{
 "cells": [
  {
   "cell_type": "markdown",
   "metadata": {
    "id": "s66NRgzfciVf"
   },
   "source": [
    "# Step 1: Load and Explore the Data"
   ]
  },
  {
   "cell_type": "code",
   "execution_count": 1,
   "metadata": {
    "colab": {
     "base_uri": "https://localhost:8080/"
    },
    "id": "fEMjIDIDafTr",
    "outputId": "b3f50724-ab4a-4420-d75b-5807285f7aa5"
   },
   "outputs": [
    {
     "name": "stdout",
     "output_type": "stream",
     "text": [
      "Data has been ingested and saved locally as 'books_local.csv'\n"
     ]
    }
   ],
   "source": [
    "import pandas as pd\n",
    "\n",
    "# URL of the dataset\n",
    "url = \"https://gist.githubusercontent.com/jaidevd/23aef12e9bf56c618c41/raw/c05e98672b8d52fa0cb94aad80f75eb78342e5d4/books_new.csv\"\n",
    "\n",
    "# Read the data from the URL\n",
    "books_df = pd.read_csv(url)\n",
    "\n",
    "# Save the dataframe locally as a CSV file\n",
    "books_df.to_csv('books.csv', index=False)\n",
    "\n",
    "print(\"Data has been ingested and saved locally as 'books.csv'\")\n"
   ]
  },
  {
   "cell_type": "code",
   "execution_count": 2,
   "metadata": {
    "colab": {
     "base_uri": "https://localhost:8080/"
    },
    "id": "yqv6L2okbl4F",
    "outputId": "6c916902-626c-4adb-d9c4-1d8f9cea0349"
   },
   "outputs": [
    {
     "name": "stdout",
     "output_type": "stream",
     "text": [
      "<class 'pandas.core.frame.DataFrame'>\n",
      "RangeIndex: 211 entries, 0 to 210\n",
      "Data columns (total 6 columns):\n",
      " #   Column     Non-Null Count  Dtype \n",
      "---  ------     --------------  ----- \n",
      " 0   Title      211 non-null    object\n",
      " 1   Author     187 non-null    object\n",
      " 2   Genre      211 non-null    object\n",
      " 3   SubGenre   211 non-null    object\n",
      " 4   Height     211 non-null    int64 \n",
      " 5   Publisher  115 non-null    object\n",
      "dtypes: int64(1), object(5)\n",
      "memory usage: 10.0+ KB\n"
     ]
    }
   ],
   "source": [
    "books_df.info()"
   ]
  },
  {
   "cell_type": "code",
   "execution_count": 3,
   "metadata": {
    "colab": {
     "base_uri": "https://localhost:8080/",
     "height": 206
    },
    "id": "SaLXBZcAbVYq",
    "outputId": "e987c277-0a5e-4cd3-8cdf-f832f9d369c0"
   },
   "outputs": [
    {
     "data": {
      "text/html": [
       "<div>\n",
       "<style scoped>\n",
       "    .dataframe tbody tr th:only-of-type {\n",
       "        vertical-align: middle;\n",
       "    }\n",
       "\n",
       "    .dataframe tbody tr th {\n",
       "        vertical-align: top;\n",
       "    }\n",
       "\n",
       "    .dataframe thead th {\n",
       "        text-align: right;\n",
       "    }\n",
       "</style>\n",
       "<table border=\"1\" class=\"dataframe\">\n",
       "  <thead>\n",
       "    <tr style=\"text-align: right;\">\n",
       "      <th></th>\n",
       "      <th>Title</th>\n",
       "      <th>Author</th>\n",
       "      <th>Genre</th>\n",
       "      <th>SubGenre</th>\n",
       "      <th>Height</th>\n",
       "      <th>Publisher</th>\n",
       "    </tr>\n",
       "  </thead>\n",
       "  <tbody>\n",
       "    <tr>\n",
       "      <th>152</th>\n",
       "      <td>Information, The</td>\n",
       "      <td>Gleick, James</td>\n",
       "      <td>science</td>\n",
       "      <td>mathematics</td>\n",
       "      <td>233</td>\n",
       "      <td>NaN</td>\n",
       "    </tr>\n",
       "    <tr>\n",
       "      <th>64</th>\n",
       "      <td>Crime and Punishment</td>\n",
       "      <td>Dostoevsky, Fyodor</td>\n",
       "      <td>fiction</td>\n",
       "      <td>classic</td>\n",
       "      <td>180</td>\n",
       "      <td>Penguin</td>\n",
       "    </tr>\n",
       "    <tr>\n",
       "      <th>117</th>\n",
       "      <td>One</td>\n",
       "      <td>Bach, Richard</td>\n",
       "      <td>nonfiction</td>\n",
       "      <td>autobiography</td>\n",
       "      <td>172</td>\n",
       "      <td>Dell</td>\n",
       "    </tr>\n",
       "    <tr>\n",
       "      <th>210</th>\n",
       "      <td>Christmas Carol, A</td>\n",
       "      <td>Dickens, Charles</td>\n",
       "      <td>fiction</td>\n",
       "      <td>classic</td>\n",
       "      <td>196</td>\n",
       "      <td>NaN</td>\n",
       "    </tr>\n",
       "    <tr>\n",
       "      <th>81</th>\n",
       "      <td>Manasa</td>\n",
       "      <td>Kale, V P</td>\n",
       "      <td>nonfiction</td>\n",
       "      <td>misc</td>\n",
       "      <td>213</td>\n",
       "      <td>Mauj</td>\n",
       "    </tr>\n",
       "  </tbody>\n",
       "</table>\n",
       "</div>"
      ],
      "text/plain": [
       "                    Title              Author       Genre       SubGenre  \\\n",
       "152      Information, The       Gleick, James     science    mathematics   \n",
       "64   Crime and Punishment  Dostoevsky, Fyodor     fiction        classic   \n",
       "117                   One       Bach, Richard  nonfiction  autobiography   \n",
       "210    Christmas Carol, A    Dickens, Charles     fiction        classic   \n",
       "81                 Manasa           Kale, V P  nonfiction           misc   \n",
       "\n",
       "     Height Publisher  \n",
       "152     233       NaN  \n",
       "64      180   Penguin  \n",
       "117     172      Dell  \n",
       "210     196       NaN  \n",
       "81      213      Mauj  "
      ]
     },
     "execution_count": 3,
     "metadata": {},
     "output_type": "execute_result"
    }
   ],
   "source": [
    "books_df.sample(5)"
   ]
  },
  {
   "cell_type": "markdown",
   "metadata": {
    "id": "vH8gJ0H-crCb"
   },
   "source": [
    "# Step 2: Data Preprocessing"
   ]
  },
  {
   "cell_type": "code",
   "execution_count": 4,
   "metadata": {
    "colab": {
     "base_uri": "https://localhost:8080/"
    },
    "id": "0R68cot5buCt",
    "outputId": "6a1abbdf-51bc-4ab8-8d0b-7cfb9eea6304"
   },
   "outputs": [
    {
     "name": "stdout",
     "output_type": "stream",
     "text": [
      "0    Fundamentals of Wavelets Goswami, Jaideva tech...\n",
      "1           Data Smart Foreman, John tech data_science\n",
      "2    God Created the Integers Hawking, Stephen tech...\n",
      "3    Superfreakonomics Dubner, Stephen science econ...\n",
      "4          Orientalism Said, Edward nonfiction history\n",
      "Name: combined_features, dtype: object\n"
     ]
    }
   ],
   "source": [
    "# Fill missing values\n",
    "books_df.fillna('', inplace=True)\n",
    "\n",
    "# Combine relevant features into a single string\n",
    "books_df['combined_features'] = books_df.apply(lambda row: ' '.join([row['Title'], row['Author'], row['Genre'], row['SubGenre']]), axis=1)\n",
    "\n",
    "# Display the combined features\n",
    "print(books_df['combined_features'].head())\n"
   ]
  },
  {
   "cell_type": "markdown",
   "metadata": {
    "id": "s3VEizK4cxWZ"
   },
   "source": [
    "# Step 3: Content-Based Filtering using TF-IDF"
   ]
  },
  {
   "cell_type": "code",
   "execution_count": 6,
   "metadata": {
    "colab": {
     "base_uri": "https://localhost:8080/"
    },
    "id": "C7tYLm0LcYvc",
    "outputId": "471afa04-a3fa-4426-f0d4-86370804e2a9"
   },
   "outputs": [],
   "source": [
    "from sklearn.feature_extraction.text import TfidfVectorizer\n",
    "from sklearn.metrics.pairwise import cosine_similarity\n",
    "\n",
    "# Convert the text data into TF-IDF feature vectors\n",
    "vectorizer = TfidfVectorizer(stop_words='english')\n",
    "tfidf_matrix = vectorizer.fit_transform(books_df['combined_features'])\n",
    "\n",
    "# Compute the cosine similarity matrix\n",
    "cosine_sim = cosine_similarity(tfidf_matrix, tfidf_matrix)\n",
    "\n"
   ]
  },
  {
   "cell_type": "markdown",
   "metadata": {},
   "source": [
    "# Step 4: Saving the Model"
   ]
  },
  {
   "cell_type": "code",
   "execution_count": 7,
   "metadata": {},
   "outputs": [
    {
     "data": {
      "text/plain": [
       "['model/cosine_sim.pkl']"
      ]
     },
     "execution_count": 7,
     "metadata": {},
     "output_type": "execute_result"
    }
   ],
   "source": [
    "import joblib\n",
    "# Save the vectorizer and cosine similarity matrix\n",
    "joblib.dump(vectorizer, 'model/vectorizer.pkl')\n",
    "joblib.dump(cosine_sim, 'model/cosine_sim.pkl')\n"
   ]
  },
  {
   "cell_type": "markdown",
   "metadata": {},
   "source": [
    "# Step 5 : loading the models and getting recommendations"
   ]
  },
  {
   "cell_type": "code",
   "execution_count": 10,
   "metadata": {},
   "outputs": [
    {
     "name": "stdout",
     "output_type": "stream",
     "text": [
      "58                                Learning OpenCV\n",
      "154                Elements of Information Theory\n",
      "207                  Image Processing with MATLAB\n",
      "61            Principles of Communication Systems\n",
      "60             Computer Vision, A Modern Approach\n",
      "8      Image Processing & Mathematical Morphology\n",
      "57                           Econometric Analysis\n",
      "62                                       Let Us C\n",
      "172                                 Pointers in C\n",
      "21                                Analysis, Vol I\n",
      "Name: Title, dtype: object\n"
     ]
    }
   ],
   "source": [
    "import joblib\n",
    "import pandas as pd\n",
    "\n",
    "# Load the vectorizer and cosine similarity matrix\n",
    "vectorizer = joblib.load('model/vectorizer.pkl')\n",
    "cosine_sim = joblib.load('model/cosine_sim.pkl')\n",
    "\n",
    "# Load your dataset\n",
    "df = pd.read_csv('books.csv')\n",
    "\n",
    "# Function to get recommendations\n",
    "def get_recommendations(title, cosine_sim=cosine_sim):\n",
    "    # Get the index of the movie that matches the title\n",
    "    idx = df[df['Title'] == title].index[0]\n",
    "\n",
    "    # Get the pairwise similarity scores of all books with that book\n",
    "    sim_scores = list(enumerate(cosine_sim[idx]))\n",
    "\n",
    "    # Sort the books based on the similarity scores\n",
    "    sim_scores = sorted(sim_scores, key=lambda x: x[1], reverse=True)\n",
    "\n",
    "    # Get the scores of the 10 most similar books\n",
    "    sim_scores = sim_scores[1:11]\n",
    "\n",
    "    # Get the book indices\n",
    "    book_indices = [i[0] for i in sim_scores]\n",
    "\n",
    "    # Return the top 10 most similar books\n",
    "    return df['Title'].iloc[book_indices]\n",
    "\n",
    "# Example usage\n",
    "print(get_recommendations('Fundamentals of Wavelets'))\n"
   ]
  },
  {
   "cell_type": "code",
   "execution_count": null,
   "metadata": {},
   "outputs": [],
   "source": []
  }
 ],
 "metadata": {
  "colab": {
   "provenance": []
  },
  "kernelspec": {
   "display_name": "Python 3 (ipykernel)",
   "language": "python",
   "name": "python3"
  },
  "language_info": {
   "codemirror_mode": {
    "name": "ipython",
    "version": 3
   },
   "file_extension": ".py",
   "mimetype": "text/x-python",
   "name": "python",
   "nbconvert_exporter": "python",
   "pygments_lexer": "ipython3",
   "version": "3.11.7"
  }
 },
 "nbformat": 4,
 "nbformat_minor": 4
}
